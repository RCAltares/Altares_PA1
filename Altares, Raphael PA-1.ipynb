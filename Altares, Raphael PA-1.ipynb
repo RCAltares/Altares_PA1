{
 "cells": [
  {
   "cell_type": "markdown",
   "id": "01737053-6ed0-46be-a258-c93fb18fa8b9",
   "metadata": {},
   "source": [
    "### PA-1 Altares, Raphael \n",
    "### 2ECE - B\n"
   ]
  },
  {
   "cell_type": "code",
   "execution_count": 62,
   "id": "86b140a7-a015-4359-b5ef-1a0587e8176e",
   "metadata": {},
   "outputs": [
    {
     "name": "stdin",
     "output_type": "stream",
     "text": [
      "Enter any string:  hello word shdbah\n"
     ]
    },
    {
     "name": "stdout",
     "output_type": "stream",
     "text": [
      "hello word shdbah\n",
      "The alphabetical order of this is:      a b d d e h h h l l o o r s w\n"
     ]
    }
   ],
   "source": [
    "# 1. ALPHABET SOUP PROBLEM\n",
    "\n",
    "alphabet_word = input('Enter any string: ')  # Make them enter the string or chosen word\n",
    "\n",
    "print(alphabet_word) #Shows the word that you entered\n",
    "\n",
    "letterByletter = list(alphabet_word)  #After making it a  list, transfer it to the other variable\n",
    "\n",
    "letterByletter.sort() #Now sorting it by arranging it alphabeticaly \n",
    "\n",
    "Done = ' '.join(letterByletter) #by putting the sequence in the other variable, pwede rin yung print (\"  \".join(letterByletter))\n",
    "\n",
    "print ('The alphabetical order of this is: ', Done) #Final Results\n"
   ]
  },
  {
   "cell_type": "code",
   "execution_count": 113,
   "id": "20f4a4c1-425b-4c45-9a99-bd26a09a01aa",
   "metadata": {},
   "outputs": [
    {
     "name": "stdin",
     "output_type": "stream",
     "text": [
      "What are you feeling today:  Im sad\n"
     ]
    },
    {
     "name": "stdout",
     "output_type": "stream",
     "text": [
      "Im :((\n"
     ]
    }
   ],
   "source": [
    "# 2. EMOTICON PROBLEM: Create a function that changes specific words into emoticons. Given a sentence as a string, replace the words smile, grin, sad and mad with their corresponding emoticon\n",
    "\n",
    "Emt = input('What are you feeling today: ')  #make them enter the string\n",
    "\n",
    "Emotion = Emt.split()   #split the sentence word by word and putting it in a new variable \n",
    "\n",
    "for i in range(len(Emotion)): #using elif\n",
    "    if Emotion[i] == 'smile':\n",
    "        Emotion[i] = ':)'\n",
    "        \n",
    "    elif Emotion[i] == 'grin':\n",
    "        Emotion[i] = ':D'\n",
    "        \n",
    "    elif Emotion[i] == 'sad':\n",
    "        Emotion[i] = ':(('\n",
    "        \n",
    "    elif Emotion[i] == 'mad':\n",
    "        Emotion[i] = '>:('\n",
    "\n",
    "Emotes = ' '.join(Emotion) #put it in the sequence again\n",
    "\n",
    "print(Emotes) #final result\n"
   ]
  },
  {
   "cell_type": "code",
   "execution_count": 6,
   "id": "59230e4f-f303-4ab1-b263-ad436a1b764b",
   "metadata": {},
   "outputs": [
    {
     "name": "stdin",
     "output_type": "stream",
     "text": [
      "Enter a list of numbers separated by spaces:  1 2 3 4 5 6\n"
     ]
    },
    {
     "name": "stdout",
     "output_type": "stream",
     "text": [
      "First: 1\n",
      "Middle: [2, 3, 4, 5]\n",
      "Last: 6\n"
     ]
    }
   ],
   "source": [
    "# 3. UNPACKING LIST PROBLEM: Unpack the list write your code here into three variables, being first, middle, and last, with middle being everything in between the first and last element. Then print all three variables\n",
    "#using integer seq based in cheat sheet \n",
    "#first enter input\n",
    "\n",
    "# Take the input and convert it into a list of integers\n",
    "lst = input(\"Enter a list of numbers separated by spaces: \")\n",
    "lst = [int(x) for x in lst.split()]\n",
    "\n",
    "# Getting the length of the list \n",
    "code = len(lst)\n",
    "\n",
    "# getting the first, middle, and last by seperating it\n",
    "first = lst[0] if code > 0 else None\n",
    "last = lst[-1] if code > 1 else None\n",
    "middle = lst[1:-1] if code > 2 else []\n",
    "\n",
    "# Print the results\n",
    "print(\"First:\", first)\n",
    "print(\"Middle:\", middle)\n",
    "print(\"Last:\", last)\n",
    "\n",
    "\n",
    "\n",
    "\n",
    "\n"
   ]
  },
  {
   "cell_type": "code",
   "execution_count": null,
   "id": "c3b82ff6-4a15-4331-a19c-47e008935788",
   "metadata": {},
   "outputs": [],
   "source": []
  }
 ],
 "metadata": {
  "kernelspec": {
   "display_name": "Python 3 (ipykernel)",
   "language": "python",
   "name": "python3"
  },
  "language_info": {
   "codemirror_mode": {
    "name": "ipython",
    "version": 3
   },
   "file_extension": ".py",
   "mimetype": "text/x-python",
   "name": "python",
   "nbconvert_exporter": "python",
   "pygments_lexer": "ipython3",
   "version": "3.12.4"
  }
 },
 "nbformat": 4,
 "nbformat_minor": 5
}
